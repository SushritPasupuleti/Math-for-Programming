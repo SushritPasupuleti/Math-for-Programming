{
 "cells": [
  {
   "cell_type": "markdown",
   "id": "5fc69c3b-43d6-4b81-9e38-e18a58b66d2f",
   "metadata": {},
   "source": [
    "# Applying Math in the Real World\n",
    "## Predicting Vehicle Prices"
   ]
  },
  {
   "cell_type": "code",
   "execution_count": 14,
   "id": "c3b322fd-8674-4a74-8022-89cffcb6d3c5",
   "metadata": {},
   "outputs": [],
   "source": [
    "priceConst = 26500\n",
    "mileageConst = 0.999999017\n",
    "\n",
    "def calculateCost(mileage):\n",
    "    \n",
    "    price = priceConst * (mileageConst **float(mileage))\n",
    "    print(\"Price estimate: ~$ \"+str(price))\n",
    "    return price\n",
    "\n",
    "def calculateCostFromInput():\n",
    "    print(\"Enter Mileage\")\n",
    "    mileage = input()\n",
    "    \n",
    "    \n",
    "    price = priceConst * (mileageConst **float(mileage))\n",
    "    print(\"Price estimate: ~$ \"+str(price))\n",
    "    return price"
   ]
  },
  {
   "cell_type": "markdown",
   "id": "b5c723f8-ef5d-4544-9602-8184557f5821",
   "metadata": {},
   "source": [
    "## Comparing Price Points"
   ]
  },
  {
   "cell_type": "code",
   "execution_count": 15,
   "id": "abff6958-04cd-40d7-a0bc-330ee76472ec",
   "metadata": {},
   "outputs": [
    {
     "name": "stdout",
     "output_type": "stream",
     "text": [
      "Price estimate: ~$ 25229.014691468718\n",
      "Price estimate: ~$ 24018.988011409223\n",
      "Price estimate: ~$ 21770.25604121585\n"
     ]
    }
   ],
   "source": [
    "mileages = [50000, 100000, 200000]\n",
    "\n",
    "for mileage in mileages:\n",
    "    calculateCost(mileage)"
   ]
  },
  {
   "cell_type": "code",
   "execution_count": null,
   "id": "1d935ae0-b269-4487-ae42-1e08326a7c62",
   "metadata": {},
   "outputs": [],
   "source": []
  }
 ],
 "metadata": {
  "kernelspec": {
   "display_name": "Python 3 (ipykernel)",
   "language": "python",
   "name": "python3"
  },
  "language_info": {
   "codemirror_mode": {
    "name": "ipython",
    "version": 3
   },
   "file_extension": ".py",
   "mimetype": "text/x-python",
   "name": "python",
   "nbconvert_exporter": "python",
   "pygments_lexer": "ipython3",
   "version": "3.10.9"
  }
 },
 "nbformat": 4,
 "nbformat_minor": 5
}
