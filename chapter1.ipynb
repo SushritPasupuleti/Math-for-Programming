{
 "cells": [
  {
   "cell_type": "markdown",
   "id": "5fc69c3b-43d6-4b81-9e38-e18a58b66d2f",
   "metadata": {},
   "source": [
    "# Applying Math in the Real World\n",
    "## Predicting Vehicle Prices"
   ]
  },
  {
   "cell_type": "code",
   "execution_count": 1,
   "id": "c3b322fd-8674-4a74-8022-89cffcb6d3c5",
   "metadata": {},
   "outputs": [],
   "source": [
    "priceConst = 26500\n",
    "mileageConst = 0.999999017\n",
    "\n",
    "def calculateCost(mileage):\n",
    "    \n",
    "    price = priceConst * (mileageConst **float(mileage))\n",
    "    print(\"Price estimate: ~$ \"+str(price))\n",
    "    return price\n",
    "\n",
    "def calculateCostFromInput():\n",
    "    print(\"Enter Mileage\")\n",
    "    mileage = input()\n",
    "    \n",
    "    \n",
    "    price = priceConst * (mileageConst **float(mileage))\n",
    "    print(\"Price estimate: ~$ \"+str(price))\n",
    "    return price"
   ]
  },
  {
   "cell_type": "markdown",
   "id": "b5c723f8-ef5d-4544-9602-8184557f5821",
   "metadata": {},
   "source": [
    "## Comparing Price Points"
   ]
  },
  {
   "cell_type": "code",
   "execution_count": 2,
   "id": "abff6958-04cd-40d7-a0bc-330ee76472ec",
   "metadata": {},
   "outputs": [
    {
     "name": "stdout",
     "output_type": "stream",
     "text": [
      "Price estimate: ~$ 25229.014691468718\n",
      "Price estimate: ~$ 24018.988011409223\n",
      "Price estimate: ~$ 21770.25604121585\n"
     ]
    }
   ],
   "source": [
    "mileages = [50000, 100000, 200000]\n",
    "\n",
    "for mileage in mileages:\n",
    "    calculateCost(mileage)"
   ]
  },
  {
   "cell_type": "markdown",
   "id": "e9b64269-dde6-4e74-8749-948dafaf7954",
   "metadata": {},
   "source": [
    "## Cartesian System vs Polar\n",
    "\n",
    "> Basics are fine.\n",
    "\n",
    "- In cartesian, the coordinates are perpendicular to one another with same unit of length on both axes Eg: `(x,y)` on graphs.\n",
    "\n",
    "- In polar, the coordinates are determined by a fixed point, an origin or pole, and zero direction or axis. Each point is determined by an angle and a distance relative to the zero axis and origin.\n",
    "\n",
    "Polar to Cartesian:\n",
    "    \n",
    "```\n",
    "    r/|y=r*sin(t)\n",
    "    / |\n",
    "   /t_|\n",
    "     x=r*cos(t)\n",
    "```\n",
    "\n",
    "Note:\n",
    "- `t`: Angle"
   ]
  },
  {
   "cell_type": "code",
   "execution_count": 3,
   "id": "f68f1a62-c3bb-4739-a843-8da58e5cd4ab",
   "metadata": {},
   "outputs": [
    {
     "name": "stdout",
     "output_type": "stream",
     "text": [
      "2.1816615649929116\n"
     ]
    }
   ],
   "source": [
    "# radians to degress in python\n",
    "from math import pi, sin, cos, tan\n",
    "\n",
    "# pi * radians = 180(degees)\n",
    "\n",
    "angle = (125*pi)/180\n",
    "\n",
    "print(angle)\n",
    "\n",
    "def toCartesian(polarVector):\n",
    "    length, angle = polarVector[0], polarVector[1]\n",
    "    return (length*cos(angle), length*sin(angle))"
   ]
  },
  {
   "cell_type": "code",
   "execution_count": 4,
   "id": "ea626f69-6e67-4cc6-a8da-01f741a1b5f3",
   "metadata": {},
   "outputs": [
    {
     "name": "stdout",
     "output_type": "stream",
     "text": [
      "(-2.8678821817552294, 4.09576022144496)\n"
     ]
    }
   ],
   "source": [
    "print(toCartesian((5, angle)))"
   ]
  },
  {
   "cell_type": "markdown",
   "id": "b8e15814-5117-4e26-9666-1adbeddbaa9a",
   "metadata": {},
   "source": [
    "## Dot Product\n",
    "\n",
    "The dot product of 2 vectors is a scalar.\n",
    "\n",
    "**Note: Perpendicular vectors have a dot product of 0**\n",
    "\n",
    "As a result, it implies that if angle between 2 vectors < 90 the dot product will be positive, while the angle being greater than 90 yields a negative scalar.\n",
    "\n",
    "$$\n",
    "a.b = \\sum \\limits _{i=1} ^{n} a_i . b_i\n",
    "$$"
   ]
  },
  {
   "cell_type": "code",
   "execution_count": 5,
   "id": "25f6d989-b7d4-401a-8413-3d7d31596cdc",
   "metadata": {},
   "outputs": [],
   "source": [
    "def dot(u, v):\n",
    "    return sum([a1 * b1 for a1, b1 in zip(u,v)])\n",
    "\n",
    "def scale(u, scaleBy):\n",
    "    counter = 0\n",
    "    _u = list(u)\n",
    "    for coordinate in _u:\n",
    "        _u[counter] = coordinate*scaleBy\n",
    "        counter+=1\n",
    "    return tuple(_u)"
   ]
  },
  {
   "cell_type": "code",
   "execution_count": 6,
   "id": "6929ded5-bd7c-4455-885a-4d02d33a345b",
   "metadata": {},
   "outputs": [
    {
     "name": "stdout",
     "output_type": "stream",
     "text": [
      "213\n",
      "0\n"
     ]
    }
   ],
   "source": [
    "print(dot((1,23,42,1), (0,2,3,41)))\n",
    "print(dot((0,3,0),(0,0,-5))) #perpendicular to eachother"
   ]
  },
  {
   "cell_type": "code",
   "execution_count": 7,
   "id": "df639043-39a3-4657-82c2-f9078f94e8bf",
   "metadata": {},
   "outputs": [
    {
     "name": "stdout",
     "output_type": "stream",
     "text": [
      "(20, 460, 840, 20)\n"
     ]
    }
   ],
   "source": [
    "print(scale((1,23,42,1), 20))"
   ]
  },
  {
   "cell_type": "markdown",
   "id": "4682404d-cda4-4c1f-a247-0afb3f997941",
   "metadata": {},
   "source": [
    "## Measuring angles between vectors using dot product\n",
    "\n",
    "`u.v` ranges between `-1` to `1` times the product of the lengths of u and v. And angle ranges between 0 to 180. This range is similar to `cosine`.\n",
    "\n",
    "\n",
    "$$\n",
    "u.v = |u|.|v|.\\cos(\\theta)\n",
    "$$\n",
    "\n",
    "`|u|` and `|v|` denote lengths of vectors."
   ]
  },
  {
   "cell_type": "code",
   "execution_count": 8,
   "id": "9aef8007-b8ba-417a-8d88-803e26f609f6",
   "metadata": {},
   "outputs": [],
   "source": [
    "#find angle between any 2 vectors\n",
    "import numpy as np  \n",
    "\n",
    "def magnitude(v):\n",
    "    return np.sqrt(np.sum(np.square(v)))\n",
    "\n",
    "from math import pi, acos\n",
    "def angleBetweenVectors(u, v):\n",
    "    return acos(\n",
    "        dot(u, v)/ (magnitude(u) * magnitude(v))\n",
    "    ) * pi"
   ]
  },
  {
   "cell_type": "code",
   "execution_count": 9,
   "id": "0a12a040-c37b-4d20-9660-85306a79ffd9",
   "metadata": {},
   "outputs": [
    {
     "name": "stdout",
     "output_type": "stream",
     "text": [
      "Angle:  0.8915654886209426\n",
      "Angle:  4.594762399278399\n"
     ]
    }
   ],
   "source": [
    "print(\"Angle: \", angleBetweenVectors((3,4), (4,3)))\n",
    "print(\"Angle: \", angleBetweenVectors((1,23,42,1), (0,2,3,41)))"
   ]
  },
  {
   "cell_type": "markdown",
   "id": "b88966ea-18cc-44e9-9de7-923097e9b68e",
   "metadata": {},
   "source": [
    "## Cross Product\n",
    "\n",
    "Gets the area of parallelogram formed by the 2 sides resulting from the 2 vectors originating from the same point. The result is orthogonal to the plane containing the paralellogram. It indicates if the resulting polygon is visible to an observer\n",
    "\n",
    "$$\n",
    "u.v = |u|.|v|.\\sin(\\theta)\n",
    "$$"
   ]
  },
  {
   "cell_type": "code",
   "execution_count": 10,
   "id": "aef7344c-e5fc-49e7-829e-dbb9e6f19fc0",
   "metadata": {},
   "outputs": [
    {
     "name": "stdout",
     "output_type": "stream",
     "text": [
      "-7\n"
     ]
    }
   ],
   "source": [
    "print(np.cross((3,4), (4,3)))"
   ]
  },
  {
   "cell_type": "code",
   "execution_count": null,
   "id": "b5338fca-b88e-4e17-a568-07191b4d9d38",
   "metadata": {},
   "outputs": [],
   "source": []
  }
 ],
 "metadata": {
  "kernelspec": {
   "display_name": "Python 3 (ipykernel)",
   "language": "python",
   "name": "python3"
  },
  "language_info": {
   "codemirror_mode": {
    "name": "ipython",
    "version": 3
   },
   "file_extension": ".py",
   "mimetype": "text/x-python",
   "name": "python",
   "nbconvert_exporter": "python",
   "pygments_lexer": "ipython3",
   "version": "3.10.9"
  }
 },
 "nbformat": 4,
 "nbformat_minor": 5
}
